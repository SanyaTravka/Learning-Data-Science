{
 "cells": [
  {
   "cell_type": "markdown",
   "id": "b26e91e2",
   "metadata": {},
   "source": [
    "# Домашнее задание 8"
   ]
  },
  {
   "cell_type": "markdown",
   "id": "7dd5fa10",
   "metadata": {},
   "source": [
    "Добро пожаловать на восьмое домашнее задание, в нем Вам предстоит подсчитать метрики **silhouette** для различных алгоритмов кластеризации.\n",
    "\n",
    "В этом наборе данных находиться информация о людях: Рост и Вес\n",
    "\n",
    "Также в данной таблице в столбцах Алгоритм_1, Алгоритм_2, Алгоритм_3 записаны результаты работы 3 алгоритмов кластеризации на этих данных"
   ]
  },
  {
   "cell_type": "code",
   "execution_count": 1,
   "id": "c9820879",
   "metadata": {},
   "outputs": [],
   "source": [
    "import pandas as pd\n",
    "import matplotlib.pyplot as plt"
   ]
  },
  {
   "cell_type": "code",
   "execution_count": 2,
   "id": "5a7ef975",
   "metadata": {},
   "outputs": [],
   "source": [
    "df = pd.read_csv(\"8_hw_dataset.csv\", index_col = 0)"
   ]
  },
  {
   "cell_type": "code",
   "execution_count": 3,
   "id": "db306ac6",
   "metadata": {},
   "outputs": [
    {
     "data": {
      "text/html": [
       "<div>\n",
       "<style scoped>\n",
       "    .dataframe tbody tr th:only-of-type {\n",
       "        vertical-align: middle;\n",
       "    }\n",
       "\n",
       "    .dataframe tbody tr th {\n",
       "        vertical-align: top;\n",
       "    }\n",
       "\n",
       "    .dataframe thead th {\n",
       "        text-align: right;\n",
       "    }\n",
       "</style>\n",
       "<table border=\"1\" class=\"dataframe\">\n",
       "  <thead>\n",
       "    <tr style=\"text-align: right;\">\n",
       "      <th></th>\n",
       "      <th>Рост</th>\n",
       "      <th>Вес</th>\n",
       "      <th>Алгоритм_1</th>\n",
       "      <th>Алгоритм_2</th>\n",
       "      <th>Алгоритм_3</th>\n",
       "    </tr>\n",
       "    <tr>\n",
       "      <th>id</th>\n",
       "      <th></th>\n",
       "      <th></th>\n",
       "      <th></th>\n",
       "      <th></th>\n",
       "      <th></th>\n",
       "    </tr>\n",
       "  </thead>\n",
       "  <tbody>\n",
       "    <tr>\n",
       "      <th>0.0</th>\n",
       "      <td>109</td>\n",
       "      <td>48.0</td>\n",
       "      <td>2.0</td>\n",
       "      <td>1.0</td>\n",
       "      <td>1.0</td>\n",
       "    </tr>\n",
       "    <tr>\n",
       "      <th>1.0</th>\n",
       "      <td>28</td>\n",
       "      <td>18.0</td>\n",
       "      <td>1.0</td>\n",
       "      <td>1.0</td>\n",
       "      <td>2.0</td>\n",
       "    </tr>\n",
       "    <tr>\n",
       "      <th>2.0</th>\n",
       "      <td>109</td>\n",
       "      <td>44.0</td>\n",
       "      <td>2.0</td>\n",
       "      <td>1.0</td>\n",
       "      <td>3.0</td>\n",
       "    </tr>\n",
       "    <tr>\n",
       "      <th>3.0</th>\n",
       "      <td>52</td>\n",
       "      <td>19.0</td>\n",
       "      <td>1.0</td>\n",
       "      <td>1.0</td>\n",
       "      <td>4.0</td>\n",
       "    </tr>\n",
       "    <tr>\n",
       "      <th>4.0</th>\n",
       "      <td>44</td>\n",
       "      <td>16.0</td>\n",
       "      <td>1.0</td>\n",
       "      <td>1.0</td>\n",
       "      <td>1.0</td>\n",
       "    </tr>\n",
       "    <tr>\n",
       "      <th>...</th>\n",
       "      <td>...</td>\n",
       "      <td>...</td>\n",
       "      <td>...</td>\n",
       "      <td>...</td>\n",
       "      <td>...</td>\n",
       "    </tr>\n",
       "    <tr>\n",
       "      <th>1495.0</th>\n",
       "      <td>166</td>\n",
       "      <td>86.0</td>\n",
       "      <td>3.0</td>\n",
       "      <td>2.0</td>\n",
       "      <td>2.0</td>\n",
       "    </tr>\n",
       "    <tr>\n",
       "      <th>1496.0</th>\n",
       "      <td>105</td>\n",
       "      <td>48.0</td>\n",
       "      <td>2.0</td>\n",
       "      <td>1.0</td>\n",
       "      <td>1.0</td>\n",
       "    </tr>\n",
       "    <tr>\n",
       "      <th>1497.0</th>\n",
       "      <td>177</td>\n",
       "      <td>99.0</td>\n",
       "      <td>3.0</td>\n",
       "      <td>2.0</td>\n",
       "      <td>4.0</td>\n",
       "    </tr>\n",
       "    <tr>\n",
       "      <th>1498.0</th>\n",
       "      <td>120</td>\n",
       "      <td>40.0</td>\n",
       "      <td>2.0</td>\n",
       "      <td>1.0</td>\n",
       "      <td>1.0</td>\n",
       "    </tr>\n",
       "    <tr>\n",
       "      <th>1499.0</th>\n",
       "      <td>45</td>\n",
       "      <td>24.0</td>\n",
       "      <td>1.0</td>\n",
       "      <td>1.0</td>\n",
       "      <td>1.0</td>\n",
       "    </tr>\n",
       "  </tbody>\n",
       "</table>\n",
       "<p>1357 rows × 5 columns</p>\n",
       "</div>"
      ],
      "text/plain": [
       "        Рост   Вес  Алгоритм_1  Алгоритм_2  Алгоритм_3\n",
       "id                                                    \n",
       "0.0      109  48.0         2.0         1.0         1.0\n",
       "1.0       28  18.0         1.0         1.0         2.0\n",
       "2.0      109  44.0         2.0         1.0         3.0\n",
       "3.0       52  19.0         1.0         1.0         4.0\n",
       "4.0       44  16.0         1.0         1.0         1.0\n",
       "...      ...   ...         ...         ...         ...\n",
       "1495.0   166  86.0         3.0         2.0         2.0\n",
       "1496.0   105  48.0         2.0         1.0         1.0\n",
       "1497.0   177  99.0         3.0         2.0         4.0\n",
       "1498.0   120  40.0         2.0         1.0         1.0\n",
       "1499.0    45  24.0         1.0         1.0         1.0\n",
       "\n",
       "[1357 rows x 5 columns]"
      ]
     },
     "execution_count": 3,
     "metadata": {},
     "output_type": "execute_result"
    }
   ],
   "source": [
    "df"
   ]
  },
  {
   "cell_type": "markdown",
   "id": "7e3e9dcb",
   "metadata": {},
   "source": [
    "Посмотрим сколько кластеров смог определить каждый алгоритм"
   ]
  },
  {
   "cell_type": "code",
   "execution_count": 4,
   "id": "85c4e484",
   "metadata": {},
   "outputs": [
    {
     "data": {
      "text/plain": [
       "array([2., 1., 3.])"
      ]
     },
     "execution_count": 4,
     "metadata": {},
     "output_type": "execute_result"
    }
   ],
   "source": [
    "df[\"Алгоритм_1\"].unique()"
   ]
  },
  {
   "cell_type": "code",
   "execution_count": 5,
   "id": "4b98eb6c",
   "metadata": {},
   "outputs": [
    {
     "data": {
      "text/plain": [
       "array([1., 2.])"
      ]
     },
     "execution_count": 5,
     "metadata": {},
     "output_type": "execute_result"
    }
   ],
   "source": [
    "df[\"Алгоритм_2\"].unique()"
   ]
  },
  {
   "cell_type": "code",
   "execution_count": 6,
   "id": "a9072de0",
   "metadata": {},
   "outputs": [
    {
     "data": {
      "text/plain": [
       "array([1., 2., 3., 4.])"
      ]
     },
     "execution_count": 6,
     "metadata": {},
     "output_type": "execute_result"
    }
   ],
   "source": [
    "df[\"Алгоритм_3\"].unique()"
   ]
  },
  {
   "cell_type": "markdown",
   "id": "e57aad94",
   "metadata": {},
   "source": [
    "Визуализируем результат работы каждого алгоритма на данных"
   ]
  },
  {
   "cell_type": "markdown",
   "id": "f89326cd",
   "metadata": {},
   "source": [
    "### Алгоритм_1"
   ]
  },
  {
   "cell_type": "code",
   "execution_count": 7,
   "id": "1f690481",
   "metadata": {},
   "outputs": [
    {
     "data": {
      "image/png": "[encoded data removed]",
      "text/plain": [
       "<Figure size 600x400 with 1 Axes>"
      ]
     },
     "metadata": {},
     "output_type": "display_data"
    }
   ],
   "source": [
    "plt.figure(figsize=(6,4))\n",
    "plt.scatter('Рост', 'Вес', data=df[df[\"Алгоритм_1\"] == 1], color=\"r\")\n",
    "plt.scatter('Рост', 'Вес', data=df[df[\"Алгоритм_1\"] == 2], color=\"g\")\n",
    "plt.scatter('Рост', 'Вес', data=df[df[\"Алгоритм_1\"] == 3], color=\"b\")\n",
    "plt.ylabel('Вес', fontsize=12)\n",
    "plt.xlabel('Рост', fontsize=12)\n",
    "plt.show()"
   ]
  },
  {
   "cell_type": "markdown",
   "id": "817e7b15",
   "metadata": {},
   "source": [
    "### Алгоритм_2"
   ]
  },
  {
   "cell_type": "code",
   "execution_count": 8,
   "id": "f6d2204c",
   "metadata": {},
   "outputs": [
    {
     "data": {
      "image/png": "[encoded data removed]",
      "text/plain": [
       "<Figure size 600x400 with 1 Axes>"
      ]
     },
     "metadata": {},
     "output_type": "display_data"
    }
   ],
   "source": [
    "plt.figure(figsize=(6,4))\n",
    "plt.scatter('Рост', 'Вес', data=df[df[\"Алгоритм_2\"] == 1], color=\"r\")\n",
    "plt.scatter('Рост', 'Вес', data=df[df[\"Алгоритм_2\"] == 2], color=\"g\")\n",
    "plt.ylabel('Вес', fontsize=12)\n",
    "plt.xlabel('Рост', fontsize=12)\n",
    "plt.show()"
   ]
  },
  {
   "cell_type": "markdown",
   "id": "36834a70",
   "metadata": {},
   "source": [
    "### Алгоритм_3"
   ]
  },
  {
   "cell_type": "code",
   "execution_count": 9,
   "id": "8ba2d477",
   "metadata": {},
   "outputs": [
    {
     "data": {
      "image/png": "[encoded data removed]",
      "text/plain": [
       "<Figure size 600x400 with 1 Axes>"
      ]
     },
     "metadata": {},
     "output_type": "display_data"
    }
   ],
   "source": [
    "plt.figure(figsize=(6,4))\n",
    "plt.scatter('Рост', 'Вес', data=df[df[\"Алгоритм_3\"] == 1], color=\"r\")\n",
    "plt.scatter('Рост', 'Вес', data=df[df[\"Алгоритм_3\"] == 2], color=\"g\")\n",
    "plt.scatter('Рост', 'Вес', data=df[df[\"Алгоритм_3\"] == 3], color=\"b\")\n",
    "plt.scatter('Рост', 'Вес', data=df[df[\"Алгоритм_3\"] == 4], color=\"y\")\n",
    "plt.ylabel('Вес', fontsize=12)\n",
    "plt.xlabel('Рост', fontsize=12)\n",
    "plt.show()"
   ]
  },
  {
   "cell_type": "markdown",
   "id": "3a0e5412",
   "metadata": {},
   "source": [
    "### Задание 1\n",
    "\n",
    "Создайте таблицу **df1** в которой будут находиться три столбца: **Рост**, **Вес** и **Номер_кластера**. **Номер_кластера** -- ответы **Алгоритма_1**.\n",
    "\n",
    "Создайте таблицу **df2** в которой будут находиться три столбца: **Рост**, **Вес** и **Номер_кластера**. **Номер_кластера** -- ответы **Алгоритма_2**.\n",
    "\n",
    "Создайте таблицу **df3** в которой будут находиться три столбца: **Рост**, **Вес** и **Номер_кластера**. **Номер_кластера** -- ответы **Алгоритма_3**."
   ]
  },
  {
   "cell_type": "code",
   "execution_count": 10,
   "id": "6e6cf969",
   "metadata": {},
   "outputs": [],
   "source": [
    "df1 = df.drop(['Алгоритм_1','Алгоритм_2','Алгоритм_3'],axis=1)\n",
    "df1['Номер_кластера'] = df['Алгоритм_1']"
   ]
  },
  {
   "cell_type": "code",
   "execution_count": 11,
   "id": "90f75a3c",
   "metadata": {},
   "outputs": [
    {
     "data": {
      "text/html": [
       "<div>\n",
       "<style scoped>\n",
       "    .dataframe tbody tr th:only-of-type {\n",
       "        vertical-align: middle;\n",
       "    }\n",
       "\n",
       "    .dataframe tbody tr th {\n",
       "        vertical-align: top;\n",
       "    }\n",
       "\n",
       "    .dataframe thead th {\n",
       "        text-align: right;\n",
       "    }\n",
       "</style>\n",
       "<table border=\"1\" class=\"dataframe\">\n",
       "  <thead>\n",
       "    <tr style=\"text-align: right;\">\n",
       "      <th></th>\n",
       "      <th>Рост</th>\n",
       "      <th>Вес</th>\n",
       "      <th>Номер_кластера</th>\n",
       "    </tr>\n",
       "    <tr>\n",
       "      <th>id</th>\n",
       "      <th></th>\n",
       "      <th></th>\n",
       "      <th></th>\n",
       "    </tr>\n",
       "  </thead>\n",
       "  <tbody>\n",
       "    <tr>\n",
       "      <th>0.0</th>\n",
       "      <td>109</td>\n",
       "      <td>48.0</td>\n",
       "      <td>2.0</td>\n",
       "    </tr>\n",
       "    <tr>\n",
       "      <th>1.0</th>\n",
       "      <td>28</td>\n",
       "      <td>18.0</td>\n",
       "      <td>1.0</td>\n",
       "    </tr>\n",
       "    <tr>\n",
       "      <th>2.0</th>\n",
       "      <td>109</td>\n",
       "      <td>44.0</td>\n",
       "      <td>2.0</td>\n",
       "    </tr>\n",
       "    <tr>\n",
       "      <th>3.0</th>\n",
       "      <td>52</td>\n",
       "      <td>19.0</td>\n",
       "      <td>1.0</td>\n",
       "    </tr>\n",
       "    <tr>\n",
       "      <th>4.0</th>\n",
       "      <td>44</td>\n",
       "      <td>16.0</td>\n",
       "      <td>1.0</td>\n",
       "    </tr>\n",
       "    <tr>\n",
       "      <th>...</th>\n",
       "      <td>...</td>\n",
       "      <td>...</td>\n",
       "      <td>...</td>\n",
       "    </tr>\n",
       "    <tr>\n",
       "      <th>1495.0</th>\n",
       "      <td>166</td>\n",
       "      <td>86.0</td>\n",
       "      <td>3.0</td>\n",
       "    </tr>\n",
       "    <tr>\n",
       "      <th>1496.0</th>\n",
       "      <td>105</td>\n",
       "      <td>48.0</td>\n",
       "      <td>2.0</td>\n",
       "    </tr>\n",
       "    <tr>\n",
       "      <th>1497.0</th>\n",
       "      <td>177</td>\n",
       "      <td>99.0</td>\n",
       "      <td>3.0</td>\n",
       "    </tr>\n",
       "    <tr>\n",
       "      <th>1498.0</th>\n",
       "      <td>120</td>\n",
       "      <td>40.0</td>\n",
       "      <td>2.0</td>\n",
       "    </tr>\n",
       "    <tr>\n",
       "      <th>1499.0</th>\n",
       "      <td>45</td>\n",
       "      <td>24.0</td>\n",
       "      <td>1.0</td>\n",
       "    </tr>\n",
       "  </tbody>\n",
       "</table>\n",
       "<p>1357 rows × 3 columns</p>\n",
       "</div>"
      ],
      "text/plain": [
       "        Рост   Вес  Номер_кластера\n",
       "id                                \n",
       "0.0      109  48.0             2.0\n",
       "1.0       28  18.0             1.0\n",
       "2.0      109  44.0             2.0\n",
       "3.0       52  19.0             1.0\n",
       "4.0       44  16.0             1.0\n",
       "...      ...   ...             ...\n",
       "1495.0   166  86.0             3.0\n",
       "1496.0   105  48.0             2.0\n",
       "1497.0   177  99.0             3.0\n",
       "1498.0   120  40.0             2.0\n",
       "1499.0    45  24.0             1.0\n",
       "\n",
       "[1357 rows x 3 columns]"
      ]
     },
     "execution_count": 11,
     "metadata": {},
     "output_type": "execute_result"
    }
   ],
   "source": [
    "df1"
   ]
  },
  {
   "cell_type": "code",
   "execution_count": 12,
   "id": "63976937",
   "metadata": {},
   "outputs": [],
   "source": [
    "df2 = df.drop(['Алгоритм_1','Алгоритм_2','Алгоритм_3'],axis=1)\n",
    "df2['Номер_кластера'] = df['Алгоритм_2']"
   ]
  },
  {
   "cell_type": "code",
   "execution_count": 13,
   "id": "b5e3bb72",
   "metadata": {},
   "outputs": [],
   "source": [
    "df3 = df.drop(['Алгоритм_1','Алгоритм_2','Алгоритм_3'],axis=1)\n",
    "df3['Номер_кластера'] = df['Алгоритм_3']"
   ]
  },
  {
   "cell_type": "markdown",
   "id": "34b288a7",
   "metadata": {},
   "source": [
    "Проверьте себя!"
   ]
  },
  {
   "cell_type": "code",
   "execution_count": 14,
   "id": "48b3dda3",
   "metadata": {},
   "outputs": [],
   "source": [
    "assert len(df1[\"Номер_кластера\"].unique()) == 3, \"Неправильно заполнена таблица\""
   ]
  },
  {
   "cell_type": "code",
   "execution_count": 15,
   "id": "3a07f169",
   "metadata": {},
   "outputs": [],
   "source": [
    "assert len(df2[\"Номер_кластера\"].unique()) == 2, \"Неправильно заполнена таблица\""
   ]
  },
  {
   "cell_type": "code",
   "execution_count": 16,
   "id": "33b185e6",
   "metadata": {},
   "outputs": [],
   "source": [
    "assert len(df3[\"Номер_кластера\"].unique()) == 4, \"Неправильно заполнена таблица\""
   ]
  },
  {
   "cell_type": "markdown",
   "id": "7d29e1c3",
   "metadata": {},
   "source": [
    "### Задание 2\n",
    "\n",
    "Найдите ошибки в реализации подсчета метрики **evclid_distnce** и исправьте их."
   ]
  },
  {
   "cell_type": "code",
   "execution_count": 18,
   "id": "105f804e",
   "metadata": {},
   "outputs": [],
   "source": [
    "from math import sqrt\n",
    "\n",
    "def evclid_distnce(point_1, point_2):\n",
    "    \n",
    "    distance = 0\n",
    "    \n",
    "    for i,j in zip(point_1, point_2):\n",
    "        \n",
    "        distance += (i - j) ** 2\n",
    "    return sqrt(distance)"
   ]
  },
  {
   "cell_type": "code",
   "execution_count": 21,
   "id": "80e8aafb",
   "metadata": {},
   "outputs": [
    {
     "name": "stdout",
     "output_type": "stream",
     "text": [
      "0.0\n"
     ]
    }
   ],
   "source": [
    "a = [1]*100\n",
    "\n",
    "print(evclid_distnce(a,a))"
   ]
  },
  {
   "cell_type": "markdown",
   "id": "8e6363c0",
   "metadata": {},
   "source": [
    "### Задание 3\n",
    "\n",
    "Найдите ошибки в реализации подсчета метрики **intra_cluster_distance** и исправьте их."
   ]
  },
  {
   "cell_type": "code",
   "execution_count": 19,
   "id": "1a741257",
   "metadata": {},
   "outputs": [],
   "source": [
    "def intra_cluster_distance(X, y, i):\n",
    "    \n",
    "    points_i_cluster = []\n",
    "    \n",
    "    for j in range(len(y)):\n",
    "        if y[j] == y[i]:\n",
    "             points_i_cluster.append(j)\n",
    "            \n",
    "    a_distances = []\n",
    "    for j in points_i_cluster:\n",
    "        if j != i:\n",
    "            dist = evclid_distnce(X[i], X[j])\n",
    "            a_distances.append(dist)\n",
    "            \n",
    "    return sum(a_distances)/len(a_distances)"
   ]
  },
  {
   "cell_type": "code",
   "execution_count": 29,
   "id": "0932d2a8",
   "metadata": {},
   "outputs": [
    {
     "name": "stdout",
     "output_type": "stream",
     "text": [
      "10.718760496094568\n"
     ]
    }
   ],
   "source": [
    "X = df[[\"Рост\",\"Вес\"]]\n",
    "y = df['Алгоритм_1']\n",
    "print(intra_cluster_distance(X.values,y.values,0))"
   ]
  },
  {
   "cell_type": "markdown",
   "id": "bbf6099b",
   "metadata": {},
   "source": [
    "### Задание 4\n",
    "\n",
    "Найдите ошибки в реализации подсчета метрики **nearest_cluster_distance** и исправьте их."
   ]
  },
  {
   "cell_type": "code",
   "execution_count": 33,
   "id": "75c5a44d",
   "metadata": {},
   "outputs": [],
   "source": [
    "def nearest_cluster_distance(X, y, i):\n",
    "    \n",
    "    y_not_i = []\n",
    "    for j in set(y):\n",
    "        if j != y[i]:\n",
    "            y_not_i.append(j)\n",
    "    \n",
    "    min_b = 9999999999\n",
    "    for l in y_not_i:\n",
    "        b_temp = []\n",
    "        for j in range(len(y)):\n",
    "            if y[j] == l:\n",
    "                dist = evclid_distnce(X[i], X[j])\n",
    "                b_temp.append(dist)\n",
    "        min_b = min(min_b, sum(b_temp)/len(b_temp))\n",
    "        \n",
    "    return min_b"
   ]
  },
  {
   "cell_type": "code",
   "execution_count": 34,
   "id": "0d386e8e",
   "metadata": {},
   "outputs": [
    {
     "data": {
      "text/plain": [
       "75.28010329425692"
      ]
     },
     "execution_count": 34,
     "metadata": {},
     "output_type": "execute_result"
    }
   ],
   "source": [
    "nearest_cluster_distance(X.values,y.values,0)"
   ]
  },
  {
   "cell_type": "markdown",
   "id": "3dc4492d",
   "metadata": {},
   "source": [
    "### Задание 5\n",
    "\n",
    "Найдите ошибки в реализации подсчета метрики **silhouette_score_i** и исправьте их."
   ]
  },
  {
   "cell_type": "code",
   "execution_count": 35,
   "id": "b477b472",
   "metadata": {},
   "outputs": [],
   "source": [
    "def silhouette_score_i(X, y, i):\n",
    "    \n",
    "    a_i = intra_cluster_distance(X, y, i)\n",
    "    b_i = nearest_cluster_distance(X, y, i)\n",
    "    \n",
    "    return (b_i - a_i) / max(b_i, a_i)"
   ]
  },
  {
   "cell_type": "code",
   "execution_count": 36,
   "id": "f688d73e",
   "metadata": {},
   "outputs": [
    {
     "data": {
      "text/plain": [
       "0.8576149603010401"
      ]
     },
     "execution_count": 36,
     "metadata": {},
     "output_type": "execute_result"
    }
   ],
   "source": [
    "silhouette_score_i(X.values,y.values,0)"
   ]
  },
  {
   "cell_type": "markdown",
   "id": "46b8af97",
   "metadata": {},
   "source": [
    "### Задание 6\n",
    "\n",
    "Найдите ошибки в реализации подсчета метрики **silhouette_score_custom** и исправьте их."
   ]
  },
  {
   "cell_type": "code",
   "execution_count": 37,
   "id": "dad6138f",
   "metadata": {},
   "outputs": [],
   "source": [
    "def silhouette_score_custom(X, y):\n",
    "    \n",
    "    score = []\n",
    "    for i in range(len(y)):\n",
    "        score.append(silhouette_score_i(X, y, i))\n",
    "        \n",
    "    return sum(score) / len(score)"
   ]
  },
  {
   "cell_type": "code",
   "execution_count": null,
   "id": "49a9518d",
   "metadata": {},
   "outputs": [],
   "source": []
  },
  {
   "cell_type": "markdown",
   "id": "6b282d87",
   "metadata": {},
   "source": [
    "### Задание 7\n",
    "\n",
    "Подсчитайте метрику силуэта для всех трех алгоритмов и сохраните их в отельные переменные"
   ]
  },
  {
   "cell_type": "code",
   "execution_count": 38,
   "id": "c7c9cd88",
   "metadata": {},
   "outputs": [],
   "source": [
    "X = df1[['Рост', 'Вес']].values\n",
    "y = df1[\"Номер_кластера\"].values\n",
    "silhouette_score_custom_alg_1 = silhouette_score_custom(X,y)"
   ]
  },
  {
   "cell_type": "code",
   "execution_count": 39,
   "id": "35bb4eb8",
   "metadata": {},
   "outputs": [],
   "source": [
    "X = df2[['Рост', 'Вес']].values\n",
    "y = df2[\"Номер_кластера\"].values\n",
    "silhouette_score_custom_alg_2 = silhouette_score_custom(X,y)"
   ]
  },
  {
   "cell_type": "code",
   "execution_count": 40,
   "id": "13c6f81b",
   "metadata": {},
   "outputs": [],
   "source": [
    "X = df3[['Рост', 'Вес']].values\n",
    "y = df3[\"Номер_кластера\"].values\n",
    "silhouette_score_custom_alg_3 = silhouette_score_custom(X,y)"
   ]
  },
  {
   "cell_type": "markdown",
   "id": "ee3a4d12",
   "metadata": {},
   "source": [
    "### Задание 8\n",
    "\n",
    "Сравните результаты своей функции отонсительно результатов функции **silhouette_score** из библиотеки **sklearn**"
   ]
  },
  {
   "cell_type": "code",
   "execution_count": 41,
   "id": "cca490cf",
   "metadata": {},
   "outputs": [],
   "source": [
    "from sklearn.metrics import silhouette_score"
   ]
  },
  {
   "cell_type": "code",
   "execution_count": 42,
   "id": "5e3d7cc6",
   "metadata": {},
   "outputs": [],
   "source": [
    "X = df1[['Рост', 'Вес']]\n",
    "y = df1[\"Номер_кластера\"]\n",
    "assert round(silhouette_score(X, y), 5) == round(silhouette_score_custom_alg_1, 5), \"Неправильно реализована функция\""
   ]
  },
  {
   "cell_type": "code",
   "execution_count": 43,
   "id": "e215662e",
   "metadata": {},
   "outputs": [],
   "source": [
    "X = df2[['Рост', 'Вес']]\n",
    "y = df2[\"Номер_кластера\"]\n",
    "assert round(silhouette_score(X, y), 5) == round(silhouette_score_custom_alg_2, 5), \"Неправильно реализована функция\""
   ]
  },
  {
   "cell_type": "code",
   "execution_count": 44,
   "id": "7f18ab79",
   "metadata": {},
   "outputs": [],
   "source": [
    "X = df3[['Рост', 'Вес']]\n",
    "y = df3[\"Номер_кластера\"]\n",
    "assert round(silhouette_score(X, y), 5) == round(silhouette_score_custom_alg_3, 5), \"Неправильно реализована функция\""
   ]
  },
  {
   "cell_type": "code",
   "execution_count": 45,
   "id": "ab37e125",
   "metadata": {},
   "outputs": [
    {
     "name": "stdout",
     "output_type": "stream",
     "text": [
      "0.7914283627635909 0.6740517944456798 -0.028186291273834603\n"
     ]
    }
   ],
   "source": [
    "print(silhouette_score_custom_alg_1,silhouette_score_custom_alg_2,silhouette_score_custom_alg_3)"
   ]
  },
  {
   "cell_type": "markdown",
   "id": "6e5fa6ad",
   "metadata": {},
   "source": [
    "### Какой алгоритм лучший по метрике silhouette_score?"
   ]
  },
  {
   "cell_type": "markdown",
   "id": "f5faf758",
   "metadata": {},
   "source": [
    "И так, поздравляем, Вы выполнили восьмое домашнее задание!\n",
    "\n",
    "Теперь осталось чуть-чуть...\n",
    "\n",
    "На платформу Школково Вам нужно будет загрузить файл с метриками для кажодго алгоритма\n",
    "\n",
    "Чтобы сделать это, выполните ячейки ниже. Тем самым Вы сохраните таблицу в файл <code>cluster_metrics_3_alg.csv</code>. Затем загрузите этот файл на платформу Школково."
   ]
  },
  {
   "cell_type": "code",
   "execution_count": 46,
   "id": "0316628b",
   "metadata": {},
   "outputs": [],
   "source": [
    "df_rezults = pd.DataFrame([\n",
    "                    [silhouette_score_custom_alg_1],\n",
    "                    [silhouette_score_custom_alg_2],\n",
    "                    [silhouette_score_custom_alg_3],\n",
    "                    ],\n",
    "                   columns=['silhouette_score'], index=[\"Алгоритм_1\", \"Алгоритм_2\", \"Алгоритм_3\"])"
   ]
  },
  {
   "cell_type": "code",
   "execution_count": 47,
   "id": "09c523da",
   "metadata": {},
   "outputs": [
    {
     "data": {
      "text/html": [
       "<div>\n",
       "<style scoped>\n",
       "    .dataframe tbody tr th:only-of-type {\n",
       "        vertical-align: middle;\n",
       "    }\n",
       "\n",
       "    .dataframe tbody tr th {\n",
       "        vertical-align: top;\n",
       "    }\n",
       "\n",
       "    .dataframe thead th {\n",
       "        text-align: right;\n",
       "    }\n",
       "</style>\n",
       "<table border=\"1\" class=\"dataframe\">\n",
       "  <thead>\n",
       "    <tr style=\"text-align: right;\">\n",
       "      <th></th>\n",
       "      <th>silhouette_score</th>\n",
       "    </tr>\n",
       "  </thead>\n",
       "  <tbody>\n",
       "    <tr>\n",
       "      <th>Алгоритм_1</th>\n",
       "      <td>0.791428</td>\n",
       "    </tr>\n",
       "    <tr>\n",
       "      <th>Алгоритм_2</th>\n",
       "      <td>0.674052</td>\n",
       "    </tr>\n",
       "    <tr>\n",
       "      <th>Алгоритм_3</th>\n",
       "      <td>-0.028186</td>\n",
       "    </tr>\n",
       "  </tbody>\n",
       "</table>\n",
       "</div>"
      ],
      "text/plain": [
       "            silhouette_score\n",
       "Алгоритм_1          0.791428\n",
       "Алгоритм_2          0.674052\n",
       "Алгоритм_3         -0.028186"
      ]
     },
     "execution_count": 47,
     "metadata": {},
     "output_type": "execute_result"
    }
   ],
   "source": [
    "df_rezults"
   ]
  },
  {
   "cell_type": "code",
   "execution_count": 48,
   "id": "a683bc09",
   "metadata": {},
   "outputs": [],
   "source": [
    "df_rezults.to_csv(\"8_hw_answer.csv\")"
   ]
  },
  {
   "cell_type": "code",
   "execution_count": null,
   "id": "ed3e7cb9",
   "metadata": {},
   "outputs": [],
   "source": []
  }
 ],
 "metadata": {
  "kernelspec": {
   "display_name": "Python 3 (ipykernel)",
   "language": "python",
   "name": "python3"
  },
  "language_info": {
   "codemirror_mode": {
    "name": "ipython",
    "version": 3
   },
   "file_extension": ".py",
   "mimetype": "text/x-python",
   "name": "python",
   "nbconvert_exporter": "python",
   "pygments_lexer": "ipython3",
   "version": "3.10.9"
  }
 },
 "nbformat": 4,
 "nbformat_minor": 5
}
