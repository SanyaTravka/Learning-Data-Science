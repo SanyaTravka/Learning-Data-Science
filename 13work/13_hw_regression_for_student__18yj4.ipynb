{
 "cells": [
  {
   "cell_type": "markdown",
   "id": "a1624b31",
   "metadata": {},
   "source": [
    "# Домашнее задание 13"
   ]
  },
  {
   "cell_type": "markdown",
   "id": "deb64f33",
   "metadata": {},
   "source": [
    "Добро пожаловать на тринадцатое домашнее задание, в нем Вам подсчитать метрики регресии:  **MSE и MAE** на валидационном датасете для двух моделей. В итоге Вам предстоит выбрать лучшую по качеству модель.\n",
    "\n",
    "В этом наборе данных находиться информация о людях: возраст человека, рост, **зарплата, а также предсказания 2-ух обученных независимо моделей для всех объектов из валидационного датасета**"
   ]
  },
  {
   "cell_type": "code",
   "execution_count": 1,
   "id": "06d716ac",
   "metadata": {},
   "outputs": [],
   "source": [
    "import pandas as pd"
   ]
  },
  {
   "cell_type": "code",
   "execution_count": 2,
   "id": "47f025de",
   "metadata": {},
   "outputs": [],
   "source": [
    "df = pd.read_csv(\"13_hw_regression_dataset.csv\", index_col=0)"
   ]
  },
  {
   "cell_type": "code",
   "execution_count": 3,
   "id": "d20d154b",
   "metadata": {},
   "outputs": [
    {
     "data": {
      "text/html": [
       "<div>\n",
       "<style scoped>\n",
       "    .dataframe tbody tr th:only-of-type {\n",
       "        vertical-align: middle;\n",
       "    }\n",
       "\n",
       "    .dataframe tbody tr th {\n",
       "        vertical-align: top;\n",
       "    }\n",
       "\n",
       "    .dataframe thead th {\n",
       "        text-align: right;\n",
       "    }\n",
       "</style>\n",
       "<table border=\"1\" class=\"dataframe\">\n",
       "  <thead>\n",
       "    <tr style=\"text-align: right;\">\n",
       "      <th></th>\n",
       "      <th>Рост</th>\n",
       "      <th>Возраст</th>\n",
       "      <th>Зарплата</th>\n",
       "      <th>Алгоритм_1</th>\n",
       "      <th>Алгоритм_2</th>\n",
       "    </tr>\n",
       "    <tr>\n",
       "      <th>id</th>\n",
       "      <th></th>\n",
       "      <th></th>\n",
       "      <th></th>\n",
       "      <th></th>\n",
       "      <th></th>\n",
       "    </tr>\n",
       "  </thead>\n",
       "  <tbody>\n",
       "    <tr>\n",
       "      <th>0.0</th>\n",
       "      <td>38</td>\n",
       "      <td>30</td>\n",
       "      <td>106</td>\n",
       "      <td>107</td>\n",
       "      <td>100</td>\n",
       "    </tr>\n",
       "    <tr>\n",
       "      <th>1.0</th>\n",
       "      <td>24</td>\n",
       "      <td>49</td>\n",
       "      <td>72</td>\n",
       "      <td>74</td>\n",
       "      <td>80</td>\n",
       "    </tr>\n",
       "    <tr>\n",
       "      <th>2.0</th>\n",
       "      <td>39</td>\n",
       "      <td>43</td>\n",
       "      <td>178</td>\n",
       "      <td>178</td>\n",
       "      <td>183</td>\n",
       "    </tr>\n",
       "    <tr>\n",
       "      <th>3.0</th>\n",
       "      <td>50</td>\n",
       "      <td>45</td>\n",
       "      <td>144</td>\n",
       "      <td>146</td>\n",
       "      <td>149</td>\n",
       "    </tr>\n",
       "    <tr>\n",
       "      <th>4.0</th>\n",
       "      <td>27</td>\n",
       "      <td>32</td>\n",
       "      <td>161</td>\n",
       "      <td>159</td>\n",
       "      <td>166</td>\n",
       "    </tr>\n",
       "    <tr>\n",
       "      <th>...</th>\n",
       "      <td>...</td>\n",
       "      <td>...</td>\n",
       "      <td>...</td>\n",
       "      <td>...</td>\n",
       "      <td>...</td>\n",
       "    </tr>\n",
       "    <tr>\n",
       "      <th>995.0</th>\n",
       "      <td>41</td>\n",
       "      <td>51</td>\n",
       "      <td>66</td>\n",
       "      <td>68</td>\n",
       "      <td>66</td>\n",
       "    </tr>\n",
       "    <tr>\n",
       "      <th>996.0</th>\n",
       "      <td>23</td>\n",
       "      <td>44</td>\n",
       "      <td>190</td>\n",
       "      <td>191</td>\n",
       "      <td>190</td>\n",
       "    </tr>\n",
       "    <tr>\n",
       "      <th>997.0</th>\n",
       "      <td>50</td>\n",
       "      <td>45</td>\n",
       "      <td>73</td>\n",
       "      <td>72</td>\n",
       "      <td>76</td>\n",
       "    </tr>\n",
       "    <tr>\n",
       "      <th>998.0</th>\n",
       "      <td>33</td>\n",
       "      <td>23</td>\n",
       "      <td>131</td>\n",
       "      <td>131</td>\n",
       "      <td>125</td>\n",
       "    </tr>\n",
       "    <tr>\n",
       "      <th>999.0</th>\n",
       "      <td>52</td>\n",
       "      <td>42</td>\n",
       "      <td>144</td>\n",
       "      <td>142</td>\n",
       "      <td>151</td>\n",
       "    </tr>\n",
       "  </tbody>\n",
       "</table>\n",
       "<p>1001 rows × 5 columns</p>\n",
       "</div>"
      ],
      "text/plain": [
       "       Рост  Возраст  Зарплата  Алгоритм_1  Алгоритм_2\n",
       "id                                                    \n",
       "0.0      38       30       106         107         100\n",
       "1.0      24       49        72          74          80\n",
       "2.0      39       43       178         178         183\n",
       "3.0      50       45       144         146         149\n",
       "4.0      27       32       161         159         166\n",
       "...     ...      ...       ...         ...         ...\n",
       "995.0    41       51        66          68          66\n",
       "996.0    23       44       190         191         190\n",
       "997.0    50       45        73          72          76\n",
       "998.0    33       23       131         131         125\n",
       "999.0    52       42       144         142         151\n",
       "\n",
       "[1001 rows x 5 columns]"
      ]
     },
     "execution_count": 3,
     "metadata": {},
     "output_type": "execute_result"
    }
   ],
   "source": [
    "df"
   ]
  },
  {
   "cell_type": "markdown",
   "id": "699d13b6",
   "metadata": {},
   "source": [
    "### Задание 1\n",
    "\n",
    "Сохраните в отдельные переменные целевой признак и предсказанный целевой признак для двух моделей."
   ]
  },
  {
   "cell_type": "code",
   "execution_count": 4,
   "id": "c11c49a4",
   "metadata": {},
   "outputs": [],
   "source": [
    "y_true = df[\"Зарплата\"]\n",
    "\n",
    "\n",
    "y_alg_1 = df[\"Алгоритм_1\"]\n",
    "y_alg_2 = df[\"Алгоритм_2\"]"
   ]
  },
  {
   "cell_type": "markdown",
   "id": "88526b12",
   "metadata": {},
   "source": [
    "### Задание 2\n",
    "\n",
    "Найдите и исправьте ошибки в реализации метрики **MSE**"
   ]
  },
  {
   "cell_type": "code",
   "execution_count": 5,
   "id": "0503012f",
   "metadata": {},
   "outputs": [],
   "source": [
    "\n",
    "\n",
    "def mse(y_true, y_pred):\n",
    "    \n",
    "    answer = 0.0\n",
    "    for i,j in zip(y_true, y_pred):\n",
    "        answer += (i-j)**2\n",
    "    return answer/len(y_true)"
   ]
  },
  {
   "cell_type": "markdown",
   "id": "8f831f56",
   "metadata": {},
   "source": [
    "Сохраните результат метрики в отдельные переменные"
   ]
  },
  {
   "cell_type": "code",
   "execution_count": 6,
   "id": "872ef021",
   "metadata": {},
   "outputs": [],
   "source": [
    "alg_1_mse = mse(y_true,y_alg_1) \n",
    "alg_2_mse = mse(y_true,y_alg_2)"
   ]
  },
  {
   "cell_type": "code",
   "execution_count": 8,
   "id": "5eb41442",
   "metadata": {},
   "outputs": [
    {
     "name": "stdout",
     "output_type": "stream",
     "text": [
      "2170603083089.4714 2159947519788.4846\n"
     ]
    }
   ],
   "source": [
    "print(alg_1_mse,alg_2_mse)"
   ]
  },
  {
   "cell_type": "code",
   "execution_count": 9,
   "id": "e0a80a06",
   "metadata": {},
   "outputs": [
    {
     "data": {
      "text/plain": [
       "2170603083089.4714"
      ]
     },
     "execution_count": 9,
     "metadata": {},
     "output_type": "execute_result"
    }
   ],
   "source": [
    "mean_squared_error(y_true, y_alg_1)"
   ]
  },
  {
   "cell_type": "code",
   "execution_count": 10,
   "id": "5ea5f3fd",
   "metadata": {},
   "outputs": [
    {
     "data": {
      "text/plain": [
       "2159947519788.4846"
      ]
     },
     "execution_count": 10,
     "metadata": {},
     "output_type": "execute_result"
    }
   ],
   "source": [
    "mean_squared_error(y_true, y_alg_2)"
   ]
  },
  {
   "cell_type": "markdown",
   "id": "b4e2e9b2",
   "metadata": {},
   "source": [
    "**Проверьте себя!**\n",
    "\n",
    "Убедитесь с помощью команды <code>assert()</code>, что Вы правильно выполнили текущее задание."
   ]
  },
  {
   "cell_type": "code",
   "execution_count": 7,
   "id": "f4ff686c",
   "metadata": {},
   "outputs": [],
   "source": [
    "from sklearn.metrics import mean_squared_error\n",
    "assert alg_1_mse == mean_squared_error(y_true, y_alg_1), \"Неправильная реализация метрики MSE\"\n",
    "assert alg_2_mse == mean_squared_error(y_true, y_alg_2), \"Неправильная реализация метрики MSE\""
   ]
  },
  {
   "cell_type": "markdown",
   "id": "12f3f945",
   "metadata": {},
   "source": [
    "### Задание 3\n",
    "\n",
    "Найдите и исправьте ошибки в реализации метрики **MAE**"
   ]
  },
  {
   "cell_type": "code",
   "execution_count": 11,
   "id": "0dbd7385",
   "metadata": {},
   "outputs": [],
   "source": [
    "def mae(y_true, y_pred):\n",
    "    \n",
    "    answer = 0.0\n",
    "    for i,j in zip(y_true, y_pred):\n",
    "        answer += abs(i-j)\n",
    "    return answer/len(y_true)"
   ]
  },
  {
   "cell_type": "markdown",
   "id": "9c086a6a",
   "metadata": {},
   "source": [
    "Сохраните результат метрики в отдельные переменные"
   ]
  },
  {
   "cell_type": "code",
   "execution_count": 12,
   "id": "ef45719f",
   "metadata": {},
   "outputs": [],
   "source": [
    "alg_1_mae = mae(y_true,y_alg_1) \n",
    "alg_2_mae = mae(y_true,y_alg_2)"
   ]
  },
  {
   "cell_type": "markdown",
   "id": "68790fb8",
   "metadata": {},
   "source": [
    "**Проверьте себя!**\n",
    "\n",
    "Убедитесь с помощью команды <code>assert()</code>, что Вы правильно выполнили текущее задание."
   ]
  },
  {
   "cell_type": "code",
   "execution_count": 13,
   "id": "aff805e3",
   "metadata": {},
   "outputs": [],
   "source": [
    "from sklearn.metrics import mean_absolute_error\n",
    "assert alg_1_mae == mean_absolute_error(y_true, y_alg_1), \"Неправильная реализация метрики MAE\"\n",
    "assert alg_2_mae == mean_absolute_error(y_true, y_alg_2), \"Неправильная реализация метрики MAE\""
   ]
  },
  {
   "cell_type": "code",
   "execution_count": 14,
   "id": "66521cf0",
   "metadata": {},
   "outputs": [
    {
     "name": "stdout",
     "output_type": "stream",
     "text": [
      "129689.36963036963 129377.48951048951\n"
     ]
    }
   ],
   "source": [
    "print(alg_1_mae,alg_2_mae)"
   ]
  },
  {
   "cell_type": "markdown",
   "id": "ff5cdb7f",
   "metadata": {},
   "source": [
    "Сохраните в переменные <code>best_mse</code> и <code>best_mae</code> метрики для лучшей модели"
   ]
  },
  {
   "cell_type": "code",
   "execution_count": 15,
   "id": "12ce08bd",
   "metadata": {},
   "outputs": [],
   "source": [
    "best_mse = min(alg_1_mse,alg_1_mse)\n",
    "best_mae = min(alg_1_mae,alg_1_mae)"
   ]
  },
  {
   "cell_type": "markdown",
   "id": "33ea4b4a",
   "metadata": {},
   "source": [
    "И так, поздравляем, Вы выполнили тринадцатое домашнее задание!\n",
    "\n",
    "Теперь осталось чуть-чуть...\n",
    "\n",
    "На платформу Школково Вам нужно будет загрузить таблицу с метриками **MSE и MAE** для лучшей модели измеренные на валидационном датасете.\n",
    "\n",
    "Чтобы сделать это, выполните ячейку ниже. Тем самым Вы получите нужную таблицу. Затем загрузите данный файл на платформу Школково."
   ]
  },
  {
   "cell_type": "code",
   "execution_count": 16,
   "id": "6a8247f1",
   "metadata": {},
   "outputs": [],
   "source": [
    "df_rezults = pd.DataFrame([\n",
    "                    [best_mse, best_mae]\n",
    "                    ],\n",
    "                   columns=['MSE', 'MAE'], index=[0])\n",
    "df_rezults.to_csv(\"h13_answer.csv\")"
   ]
  },
  {
   "cell_type": "code",
   "execution_count": null,
   "id": "370baa81",
   "metadata": {},
   "outputs": [],
   "source": []
  }
 ],
 "metadata": {
  "kernelspec": {
   "display_name": "Python 3 (ipykernel)",
   "language": "python",
   "name": "python3"
  },
  "language_info": {
   "codemirror_mode": {
    "name": "ipython",
    "version": 3
   },
   "file_extension": ".py",
   "mimetype": "text/x-python",
   "name": "python",
   "nbconvert_exporter": "python",
   "pygments_lexer": "ipython3",
   "version": "3.10.9"
  }
 },
 "nbformat": 4,
 "nbformat_minor": 5
}
