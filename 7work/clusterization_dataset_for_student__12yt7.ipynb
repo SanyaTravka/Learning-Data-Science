{
 "cells": [
  {
   "cell_type": "markdown",
   "id": "8e79fc63",
   "metadata": {},
   "source": [
    "# Домашнее задание 7"
   ]
  },
  {
   "cell_type": "markdown",
   "id": "ce57d35a",
   "metadata": {},
   "source": [
    "Добро пожаловать на седьмое домашнее задание, в нем Вам предстоит очистить набор данных для задачи **кластеризации** от пропусков и некорректной информации.\n",
    "\n",
    "В этом наборе данных находиться информация о насекомых: название насекомых, уровень опасности и их размер"
   ]
  },
  {
   "cell_type": "code",
   "execution_count": 1,
   "id": "db9fdbca",
   "metadata": {},
   "outputs": [],
   "source": [
    "import pandas as pd\n",
    "df = pd.read_csv(\"insects_dataset.csv\", index_col = 0)"
   ]
  },
  {
   "cell_type": "code",
   "execution_count": 2,
   "id": "a37623f8",
   "metadata": {},
   "outputs": [
    {
     "data": {
      "text/html": [
       "<div>\n",
       "<style scoped>\n",
       "    .dataframe tbody tr th:only-of-type {\n",
       "        vertical-align: middle;\n",
       "    }\n",
       "\n",
       "    .dataframe tbody tr th {\n",
       "        vertical-align: top;\n",
       "    }\n",
       "\n",
       "    .dataframe thead th {\n",
       "        text-align: right;\n",
       "    }\n",
       "</style>\n",
       "<table border=\"1\" class=\"dataframe\">\n",
       "  <thead>\n",
       "    <tr style=\"text-align: right;\">\n",
       "      <th></th>\n",
       "      <th>Название насекомого</th>\n",
       "      <th>Уровень опасности</th>\n",
       "      <th>Размер</th>\n",
       "    </tr>\n",
       "    <tr>\n",
       "      <th>id</th>\n",
       "      <th></th>\n",
       "      <th></th>\n",
       "      <th></th>\n",
       "    </tr>\n",
       "  </thead>\n",
       "  <tbody>\n",
       "    <tr>\n",
       "      <th>0</th>\n",
       "      <td>муха</td>\n",
       "      <td>Опасен</td>\n",
       "      <td>9</td>\n",
       "    </tr>\n",
       "    <tr>\n",
       "      <th>1</th>\n",
       "      <td>блоха</td>\n",
       "      <td>Опасен</td>\n",
       "      <td>1</td>\n",
       "    </tr>\n",
       "    <tr>\n",
       "      <th>2</th>\n",
       "      <td>муравей</td>\n",
       "      <td>Нейтрален</td>\n",
       "      <td>10</td>\n",
       "    </tr>\n",
       "    <tr>\n",
       "      <th>3</th>\n",
       "      <td>муха</td>\n",
       "      <td>Опасен</td>\n",
       "      <td>10</td>\n",
       "    </tr>\n",
       "    <tr>\n",
       "      <th>4</th>\n",
       "      <td>муха</td>\n",
       "      <td>Очень опасен</td>\n",
       "      <td>10</td>\n",
       "    </tr>\n",
       "    <tr>\n",
       "      <th>...</th>\n",
       "      <td>...</td>\n",
       "      <td>...</td>\n",
       "      <td>...</td>\n",
       "    </tr>\n",
       "    <tr>\n",
       "      <th>901</th>\n",
       "      <td>муха</td>\n",
       "      <td>Очень опасен</td>\n",
       "      <td>8</td>\n",
       "    </tr>\n",
       "    <tr>\n",
       "      <th>902</th>\n",
       "      <td>муха</td>\n",
       "      <td>Опасен</td>\n",
       "      <td>8</td>\n",
       "    </tr>\n",
       "    <tr>\n",
       "      <th>903</th>\n",
       "      <td>таракан</td>\n",
       "      <td>Нейтрален</td>\n",
       "      <td>5</td>\n",
       "    </tr>\n",
       "    <tr>\n",
       "      <th>904</th>\n",
       "      <td>муравей</td>\n",
       "      <td>Нейтрален</td>\n",
       "      <td>4</td>\n",
       "    </tr>\n",
       "    <tr>\n",
       "      <th>905</th>\n",
       "      <td>моль</td>\n",
       "      <td>Нейтрален</td>\n",
       "      <td>4</td>\n",
       "    </tr>\n",
       "  </tbody>\n",
       "</table>\n",
       "<p>906 rows × 3 columns</p>\n",
       "</div>"
      ],
      "text/plain": [
       "    Название насекомого Уровень опасности  Размер\n",
       "id                                               \n",
       "0                  муха            Опасен       9\n",
       "1                 блоха            Опасен       1\n",
       "2               муравей         Нейтрален      10\n",
       "3                  муха            Опасен      10\n",
       "4                  муха      Очень опасен      10\n",
       "..                  ...               ...     ...\n",
       "901                муха      Очень опасен       8\n",
       "902                муха            Опасен       8\n",
       "903             таракан         Нейтрален       5\n",
       "904             муравей         Нейтрален       4\n",
       "905                моль         Нейтрален       4\n",
       "\n",
       "[906 rows x 3 columns]"
      ]
     },
     "execution_count": 2,
     "metadata": {},
     "output_type": "execute_result"
    }
   ],
   "source": [
    "df"
   ]
  },
  {
   "cell_type": "markdown",
   "id": "c19aff1d",
   "metadata": {},
   "source": [
    "К сожалению, в процессе сбора данной информации произошли некоторые ошибки, в результате чего в таблице появились **пропуски** и **некорректные данные.**\n",
    "\n",
    "В этом домашнем задании Вам предлагается произвести несколько этапов очистки представленного набора данных, после чего у Вас получится полноценный **датасет для задачи кластеризации.**"
   ]
  },
  {
   "cell_type": "markdown",
   "id": "56ca9e2c",
   "metadata": {},
   "source": [
    "### Задание 1\n",
    "\n",
    "Найдите и удалите все строки, в которых есть пропуски (null).\n",
    "\n",
    "**Подсказка:** используйте для выполнения задания команду <code>dropna()</code>. Пример использования данной команды можно найти в практической части лекции."
   ]
  },
  {
   "cell_type": "code",
   "execution_count": 3,
   "id": "ae76a1da",
   "metadata": {},
   "outputs": [],
   "source": [
    "df = df.dropna()"
   ]
  },
  {
   "cell_type": "code",
   "execution_count": 4,
   "id": "a3c28fbe",
   "metadata": {},
   "outputs": [],
   "source": [
    "assert len(df) == 875, \"Удалены на все сторчки с null\""
   ]
  },
  {
   "cell_type": "markdown",
   "id": "cb75fee5",
   "metadata": {},
   "source": [
    "### Задание 2\n",
    "\n",
    "Найдите и удалите все строки, в которых размер насекомых больше 10 см\n",
    "\n",
    "**Подсказка:** используйте для выполнения задания условную фильтрацию. Пример использования данной команды можно найти в практической части лекции."
   ]
  },
  {
   "cell_type": "code",
   "execution_count": 5,
   "id": "f16b4506",
   "metadata": {},
   "outputs": [
    {
     "data": {
      "text/html": [
       "<div>\n",
       "<style scoped>\n",
       "    .dataframe tbody tr th:only-of-type {\n",
       "        vertical-align: middle;\n",
       "    }\n",
       "\n",
       "    .dataframe tbody tr th {\n",
       "        vertical-align: top;\n",
       "    }\n",
       "\n",
       "    .dataframe thead th {\n",
       "        text-align: right;\n",
       "    }\n",
       "</style>\n",
       "<table border=\"1\" class=\"dataframe\">\n",
       "  <thead>\n",
       "    <tr style=\"text-align: right;\">\n",
       "      <th></th>\n",
       "      <th>Размер</th>\n",
       "    </tr>\n",
       "  </thead>\n",
       "  <tbody>\n",
       "    <tr>\n",
       "      <th>count</th>\n",
       "      <td>875.000000</td>\n",
       "    </tr>\n",
       "    <tr>\n",
       "      <th>mean</th>\n",
       "      <td>32.277714</td>\n",
       "    </tr>\n",
       "    <tr>\n",
       "      <th>std</th>\n",
       "      <td>122.072659</td>\n",
       "    </tr>\n",
       "    <tr>\n",
       "      <th>min</th>\n",
       "      <td>1.000000</td>\n",
       "    </tr>\n",
       "    <tr>\n",
       "      <th>25%</th>\n",
       "      <td>3.000000</td>\n",
       "    </tr>\n",
       "    <tr>\n",
       "      <th>50%</th>\n",
       "      <td>6.000000</td>\n",
       "    </tr>\n",
       "    <tr>\n",
       "      <th>75%</th>\n",
       "      <td>9.000000</td>\n",
       "    </tr>\n",
       "    <tr>\n",
       "      <th>max</th>\n",
       "      <td>996.000000</td>\n",
       "    </tr>\n",
       "  </tbody>\n",
       "</table>\n",
       "</div>"
      ],
      "text/plain": [
       "           Размер\n",
       "count  875.000000\n",
       "mean    32.277714\n",
       "std    122.072659\n",
       "min      1.000000\n",
       "25%      3.000000\n",
       "50%      6.000000\n",
       "75%      9.000000\n",
       "max    996.000000"
      ]
     },
     "execution_count": 5,
     "metadata": {},
     "output_type": "execute_result"
    }
   ],
   "source": [
    "df.describe()"
   ]
  },
  {
   "cell_type": "code",
   "execution_count": 6,
   "id": "9206a485",
   "metadata": {},
   "outputs": [],
   "source": [
    "df = df[df[\"Размер\"]<=10]"
   ]
  },
  {
   "cell_type": "code",
   "execution_count": 7,
   "id": "0eae066c",
   "metadata": {},
   "outputs": [],
   "source": [
    "assert len(df) == 825, \"Удалены на все сторчки с ОГОРМНЫМИ насекомыми\""
   ]
  },
  {
   "cell_type": "markdown",
   "id": "e4e7e1e1",
   "metadata": {},
   "source": [
    "### Задание 3\n",
    "\n",
    "Создайте отдельные столбцы для каждого вида наскомого и уровня опасности. Столбцы должны быть названы следующим образом.\n",
    "\n",
    "* Название насекомого: муха\n",
    "* Название насекомого: блоха\n",
    "* Название насекомого: муравей\n",
    "* Название насекомого: таракан\n",
    "* Название насекомого: моль\n",
    "* Название насекомого: комар\n",
    "* Название насекомого: клоп\n",
    "\n",
    "------------------------------\n",
    "* Уровень опасности: Опасен\n",
    "* Уровень опасности: Очень опасен\n",
    "* Уровень опасности: Нейтрален\n",
    "\n",
    "\n",
    "**Подсказка:** Пример выполнения данного упражнения можно найти в практической части лекции."
   ]
  },
  {
   "cell_type": "code",
   "execution_count": 9,
   "id": "2008c6e9",
   "metadata": {},
   "outputs": [
    {
     "data": {
      "text/plain": [
       "array(['муха', 'блоха', 'муравей', 'таракан', 'моль', 'комар', 'клоп'],\n",
       "      dtype=object)"
      ]
     },
     "execution_count": 9,
     "metadata": {},
     "output_type": "execute_result"
    }
   ],
   "source": [
    "df[\"Название насекомого\"].unique()"
   ]
  },
  {
   "cell_type": "code",
   "execution_count": 10,
   "id": "3e055a7a",
   "metadata": {},
   "outputs": [],
   "source": [
    "for i in df[\"Название насекомого\"].unique():\n",
    "    df[\"Название насекомого\" + i] = df[\"Название насекомого\"].isin([i]).astype(int)"
   ]
  },
  {
   "cell_type": "code",
   "execution_count": 11,
   "id": "5c1a3f1a",
   "metadata": {},
   "outputs": [],
   "source": [
    "for i in df[\"Уровень опасности\"].unique():\n",
    "    df[\"Уровень опасности\" + i] = df[\"Уровень опасности\"].isin([i]).astype(int)"
   ]
  },
  {
   "cell_type": "code",
   "execution_count": 12,
   "id": "a5db41cc",
   "metadata": {},
   "outputs": [],
   "source": [
    "assert len(df.columns) == 13, \"Неправильное количество столбцов\""
   ]
  },
  {
   "cell_type": "markdown",
   "id": "95806b59",
   "metadata": {},
   "source": [
    "### Задание 4\n",
    "\n",
    "Удалите лишние столцы с типом данных object."
   ]
  },
  {
   "cell_type": "code",
   "execution_count": 13,
   "id": "bbf4a76e",
   "metadata": {},
   "outputs": [
    {
     "data": {
      "text/html": [
       "<div>\n",
       "<style scoped>\n",
       "    .dataframe tbody tr th:only-of-type {\n",
       "        vertical-align: middle;\n",
       "    }\n",
       "\n",
       "    .dataframe tbody tr th {\n",
       "        vertical-align: top;\n",
       "    }\n",
       "\n",
       "    .dataframe thead th {\n",
       "        text-align: right;\n",
       "    }\n",
       "</style>\n",
       "<table border=\"1\" class=\"dataframe\">\n",
       "  <thead>\n",
       "    <tr style=\"text-align: right;\">\n",
       "      <th></th>\n",
       "      <th>Размер</th>\n",
       "      <th>Название насекомогомуха</th>\n",
       "      <th>Название насекомогоблоха</th>\n",
       "      <th>Название насекомогомуравей</th>\n",
       "      <th>Название насекомоготаракан</th>\n",
       "      <th>Название насекомогомоль</th>\n",
       "      <th>Название насекомогокомар</th>\n",
       "      <th>Название насекомогоклоп</th>\n",
       "      <th>Уровень опасностиОпасен</th>\n",
       "      <th>Уровень опасностиНейтрален</th>\n",
       "      <th>Уровень опасностиОчень опасен</th>\n",
       "    </tr>\n",
       "  </thead>\n",
       "  <tbody>\n",
       "    <tr>\n",
       "      <th>count</th>\n",
       "      <td>825.000000</td>\n",
       "      <td>825.000000</td>\n",
       "      <td>825.000000</td>\n",
       "      <td>825.000000</td>\n",
       "      <td>825.000000</td>\n",
       "      <td>825.000000</td>\n",
       "      <td>825.000000</td>\n",
       "      <td>825.000000</td>\n",
       "      <td>825.000000</td>\n",
       "      <td>825.000000</td>\n",
       "      <td>825.000000</td>\n",
       "    </tr>\n",
       "    <tr>\n",
       "      <th>mean</th>\n",
       "      <td>5.534545</td>\n",
       "      <td>0.157576</td>\n",
       "      <td>0.140606</td>\n",
       "      <td>0.115152</td>\n",
       "      <td>0.141818</td>\n",
       "      <td>0.155152</td>\n",
       "      <td>0.129697</td>\n",
       "      <td>0.160000</td>\n",
       "      <td>0.353939</td>\n",
       "      <td>0.323636</td>\n",
       "      <td>0.322424</td>\n",
       "    </tr>\n",
       "    <tr>\n",
       "      <th>std</th>\n",
       "      <td>2.956248</td>\n",
       "      <td>0.364564</td>\n",
       "      <td>0.347826</td>\n",
       "      <td>0.319398</td>\n",
       "      <td>0.349075</td>\n",
       "      <td>0.362269</td>\n",
       "      <td>0.336174</td>\n",
       "      <td>0.366828</td>\n",
       "      <td>0.478481</td>\n",
       "      <td>0.468147</td>\n",
       "      <td>0.467688</td>\n",
       "    </tr>\n",
       "    <tr>\n",
       "      <th>min</th>\n",
       "      <td>1.000000</td>\n",
       "      <td>0.000000</td>\n",
       "      <td>0.000000</td>\n",
       "      <td>0.000000</td>\n",
       "      <td>0.000000</td>\n",
       "      <td>0.000000</td>\n",
       "      <td>0.000000</td>\n",
       "      <td>0.000000</td>\n",
       "      <td>0.000000</td>\n",
       "      <td>0.000000</td>\n",
       "      <td>0.000000</td>\n",
       "    </tr>\n",
       "    <tr>\n",
       "      <th>25%</th>\n",
       "      <td>3.000000</td>\n",
       "      <td>0.000000</td>\n",
       "      <td>0.000000</td>\n",
       "      <td>0.000000</td>\n",
       "      <td>0.000000</td>\n",
       "      <td>0.000000</td>\n",
       "      <td>0.000000</td>\n",
       "      <td>0.000000</td>\n",
       "      <td>0.000000</td>\n",
       "      <td>0.000000</td>\n",
       "      <td>0.000000</td>\n",
       "    </tr>\n",
       "    <tr>\n",
       "      <th>50%</th>\n",
       "      <td>6.000000</td>\n",
       "      <td>0.000000</td>\n",
       "      <td>0.000000</td>\n",
       "      <td>0.000000</td>\n",
       "      <td>0.000000</td>\n",
       "      <td>0.000000</td>\n",
       "      <td>0.000000</td>\n",
       "      <td>0.000000</td>\n",
       "      <td>0.000000</td>\n",
       "      <td>0.000000</td>\n",
       "      <td>0.000000</td>\n",
       "    </tr>\n",
       "    <tr>\n",
       "      <th>75%</th>\n",
       "      <td>8.000000</td>\n",
       "      <td>0.000000</td>\n",
       "      <td>0.000000</td>\n",
       "      <td>0.000000</td>\n",
       "      <td>0.000000</td>\n",
       "      <td>0.000000</td>\n",
       "      <td>0.000000</td>\n",
       "      <td>0.000000</td>\n",
       "      <td>1.000000</td>\n",
       "      <td>1.000000</td>\n",
       "      <td>1.000000</td>\n",
       "    </tr>\n",
       "    <tr>\n",
       "      <th>max</th>\n",
       "      <td>10.000000</td>\n",
       "      <td>1.000000</td>\n",
       "      <td>1.000000</td>\n",
       "      <td>1.000000</td>\n",
       "      <td>1.000000</td>\n",
       "      <td>1.000000</td>\n",
       "      <td>1.000000</td>\n",
       "      <td>1.000000</td>\n",
       "      <td>1.000000</td>\n",
       "      <td>1.000000</td>\n",
       "      <td>1.000000</td>\n",
       "    </tr>\n",
       "  </tbody>\n",
       "</table>\n",
       "</div>"
      ],
      "text/plain": [
       "           Размер  Название насекомогомуха  Название насекомогоблоха  \\\n",
       "count  825.000000               825.000000                825.000000   \n",
       "mean     5.534545                 0.157576                  0.140606   \n",
       "std      2.956248                 0.364564                  0.347826   \n",
       "min      1.000000                 0.000000                  0.000000   \n",
       "25%      3.000000                 0.000000                  0.000000   \n",
       "50%      6.000000                 0.000000                  0.000000   \n",
       "75%      8.000000                 0.000000                  0.000000   \n",
       "max     10.000000                 1.000000                  1.000000   \n",
       "\n",
       "       Название насекомогомуравей  Название насекомоготаракан  \\\n",
       "count                  825.000000                  825.000000   \n",
       "mean                     0.115152                    0.141818   \n",
       "std                      0.319398                    0.349075   \n",
       "min                      0.000000                    0.000000   \n",
       "25%                      0.000000                    0.000000   \n",
       "50%                      0.000000                    0.000000   \n",
       "75%                      0.000000                    0.000000   \n",
       "max                      1.000000                    1.000000   \n",
       "\n",
       "       Название насекомогомоль  Название насекомогокомар  \\\n",
       "count               825.000000                825.000000   \n",
       "mean                  0.155152                  0.129697   \n",
       "std                   0.362269                  0.336174   \n",
       "min                   0.000000                  0.000000   \n",
       "25%                   0.000000                  0.000000   \n",
       "50%                   0.000000                  0.000000   \n",
       "75%                   0.000000                  0.000000   \n",
       "max                   1.000000                  1.000000   \n",
       "\n",
       "       Название насекомогоклоп  Уровень опасностиОпасен  \\\n",
       "count               825.000000               825.000000   \n",
       "mean                  0.160000                 0.353939   \n",
       "std                   0.366828                 0.478481   \n",
       "min                   0.000000                 0.000000   \n",
       "25%                   0.000000                 0.000000   \n",
       "50%                   0.000000                 0.000000   \n",
       "75%                   0.000000                 1.000000   \n",
       "max                   1.000000                 1.000000   \n",
       "\n",
       "       Уровень опасностиНейтрален  Уровень опасностиОчень опасен  \n",
       "count                  825.000000                     825.000000  \n",
       "mean                     0.323636                       0.322424  \n",
       "std                      0.468147                       0.467688  \n",
       "min                      0.000000                       0.000000  \n",
       "25%                      0.000000                       0.000000  \n",
       "50%                      0.000000                       0.000000  \n",
       "75%                      1.000000                       1.000000  \n",
       "max                      1.000000                       1.000000  "
      ]
     },
     "execution_count": 13,
     "metadata": {},
     "output_type": "execute_result"
    }
   ],
   "source": [
    "df.describe()"
   ]
  },
  {
   "cell_type": "code",
   "execution_count": 14,
   "id": "59a0c2d2",
   "metadata": {},
   "outputs": [],
   "source": [
    "df = df.drop(['Название насекомого','Уровень опасности'],axis=1)"
   ]
  },
  {
   "cell_type": "code",
   "execution_count": 15,
   "id": "b700bc4e",
   "metadata": {},
   "outputs": [],
   "source": [
    "assert len(df.columns) == 11, \"Неправильное количество столбцов\""
   ]
  },
  {
   "cell_type": "markdown",
   "id": "356b8bcb",
   "metadata": {},
   "source": [
    "И так, поздравляем, Вы выполнили седьмое домашнее задание!\n",
    "\n",
    "Теперь осталось чуть-чуть...\n",
    "\n",
    "На платформу Школково Вам нужно будет загрузить файл с итоговым очищенным датасетом для задачи кластеризации.\n",
    "\n",
    "Чтобы сделать это, выполните ячейку ниже. Тем самым Вы сохраните таблицу в файл <code>insects_dataset_clean.csv</code>. Затем загрузите этот файл на платформу Школково."
   ]
  },
  {
   "cell_type": "code",
   "execution_count": 16,
   "id": "b74e924c",
   "metadata": {},
   "outputs": [],
   "source": [
    "df.to_csv(\"insects_dataset_clean.csv\")"
   ]
  },
  {
   "cell_type": "code",
   "execution_count": null,
   "id": "0f942a88",
   "metadata": {},
   "outputs": [],
   "source": []
  }
 ],
 "metadata": {
  "kernelspec": {
   "display_name": "Python 3 (ipykernel)",
   "language": "python",
   "name": "python3"
  },
  "language_info": {
   "codemirror_mode": {
    "name": "ipython",
    "version": 3
   },
   "file_extension": ".py",
   "mimetype": "text/x-python",
   "name": "python",
   "nbconvert_exporter": "python",
   "pygments_lexer": "ipython3",
   "version": "3.10.9"
  }
 },
 "nbformat": 4,
 "nbformat_minor": 5
}
