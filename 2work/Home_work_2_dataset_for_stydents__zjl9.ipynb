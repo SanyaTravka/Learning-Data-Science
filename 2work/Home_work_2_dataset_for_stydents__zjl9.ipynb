{
 "cells": [
  {
   "cell_type": "markdown",
   "id": "18f3c9e4",
   "metadata": {
    "id": "18f3c9e4"
   },
   "source": [
    "# Домашнее задание 2"
   ]
  },
  {
   "cell_type": "markdown",
   "id": "5730516c",
   "metadata": {
    "id": "5730516c"
   },
   "source": [
    "Добро пожаловать на второе домашнее задание, в нем Вам предстоит очистить набор данных для задачи **бинарной классификации** от пропусков и некорректной информации.\n",
    "\n",
    "В этом наборе данных находиться информация о людях: возраст человека, возраст его родителей и **ходит ли он детский сад ил нет.**"
   ]
  },
  {
   "cell_type": "code",
   "execution_count": 2,
   "id": "101cfff1",
   "metadata": {
    "id": "101cfff1",
    "scrolled": true
   },
   "outputs": [],
   "source": [
    "import pandas as pd\n",
    "df = pd.read_csv(\"kindergarten_dataset__zjla.csv\", index_col = 0)"
   ]
  },
  {
   "cell_type": "code",
   "execution_count": 3,
   "id": "6e675924",
   "metadata": {
    "id": "6e675924",
    "scrolled": true
   },
   "outputs": [
    {
     "name": "stdout",
     "output_type": "stream",
     "text": [
      "<class 'pandas.core.frame.DataFrame'>\n",
      "Float64Index: 1001 entries, 0.0 to 999.0\n",
      "Data columns (total 4 columns):\n",
      " #   Column               Non-Null Count  Dtype  \n",
      "---  ------               --------------  -----  \n",
      " 0   Возраст              983 non-null    float64\n",
      " 1   Возраст_мамы         1001 non-null   int64  \n",
      " 2   Возраст_папы         1001 non-null   int64  \n",
      " 3   Ходит_в_детский_сад  1001 non-null   object \n",
      "dtypes: float64(1), int64(2), object(1)\n",
      "memory usage: 39.1+ KB\n"
     ]
    }
   ],
   "source": [
    "df.info()"
   ]
  },
  {
   "cell_type": "code",
   "execution_count": null,
   "id": "7d83bd9e",
   "metadata": {
    "id": "7d83bd9e"
   },
   "outputs": [],
   "source": [
    "df"
   ]
  },
  {
   "cell_type": "markdown",
   "id": "d63cb5fb",
   "metadata": {
    "id": "d63cb5fb"
   },
   "source": [
    "К сожалению, в процессе сбора данной информации произошли некоторые ошибки, в результате чего в таблице появились **пропуски** и **некорректные данные.**\n",
    "\n",
    "В этом домашнем задании Вам предлагается произвести несколько этапов очистки представленного набора данных, после чего у Вас получится полноценный **датасет для задачи бинарной классификации.**\n",
    "\n",
    "Пользуйтесь методами <code>describe()</code> и <code>info()</code> для поиска некорректной информации и пропусков. "
   ]
  },
  {
   "cell_type": "code",
   "execution_count": 4,
   "id": "be927827",
   "metadata": {
    "id": "be927827"
   },
   "outputs": [
    {
     "data": {
      "text/html": [
       "<div>\n",
       "<style scoped>\n",
       "    .dataframe tbody tr th:only-of-type {\n",
       "        vertical-align: middle;\n",
       "    }\n",
       "\n",
       "    .dataframe tbody tr th {\n",
       "        vertical-align: top;\n",
       "    }\n",
       "\n",
       "    .dataframe thead th {\n",
       "        text-align: right;\n",
       "    }\n",
       "</style>\n",
       "<table border=\"1\" class=\"dataframe\">\n",
       "  <thead>\n",
       "    <tr style=\"text-align: right;\">\n",
       "      <th></th>\n",
       "      <th>Возраст</th>\n",
       "      <th>Возраст_мамы</th>\n",
       "      <th>Возраст_папы</th>\n",
       "    </tr>\n",
       "  </thead>\n",
       "  <tbody>\n",
       "    <tr>\n",
       "      <th>count</th>\n",
       "      <td>983.000000</td>\n",
       "      <td>1001.000000</td>\n",
       "      <td>1001.000000</td>\n",
       "    </tr>\n",
       "    <tr>\n",
       "      <th>mean</th>\n",
       "      <td>7.181078</td>\n",
       "      <td>41.818182</td>\n",
       "      <td>47.702298</td>\n",
       "    </tr>\n",
       "    <tr>\n",
       "      <th>std</th>\n",
       "      <td>6.609239</td>\n",
       "      <td>12.806362</td>\n",
       "      <td>41.634136</td>\n",
       "    </tr>\n",
       "    <tr>\n",
       "      <th>min</th>\n",
       "      <td>0.000000</td>\n",
       "      <td>0.000000</td>\n",
       "      <td>0.000000</td>\n",
       "    </tr>\n",
       "    <tr>\n",
       "      <th>25%</th>\n",
       "      <td>2.000000</td>\n",
       "      <td>34.000000</td>\n",
       "      <td>36.000000</td>\n",
       "    </tr>\n",
       "    <tr>\n",
       "      <th>50%</th>\n",
       "      <td>5.000000</td>\n",
       "      <td>42.000000</td>\n",
       "      <td>44.000000</td>\n",
       "    </tr>\n",
       "    <tr>\n",
       "      <th>75%</th>\n",
       "      <td>11.000000</td>\n",
       "      <td>50.000000</td>\n",
       "      <td>52.000000</td>\n",
       "    </tr>\n",
       "    <tr>\n",
       "      <th>max</th>\n",
       "      <td>24.000000</td>\n",
       "      <td>70.000000</td>\n",
       "      <td>483.000000</td>\n",
       "    </tr>\n",
       "  </tbody>\n",
       "</table>\n",
       "</div>"
      ],
      "text/plain": [
       "          Возраст  Возраст_мамы  Возраст_папы\n",
       "count  983.000000   1001.000000   1001.000000\n",
       "mean     7.181078     41.818182     47.702298\n",
       "std      6.609239     12.806362     41.634136\n",
       "min      0.000000      0.000000      0.000000\n",
       "25%      2.000000     34.000000     36.000000\n",
       "50%      5.000000     42.000000     44.000000\n",
       "75%     11.000000     50.000000     52.000000\n",
       "max     24.000000     70.000000    483.000000"
      ]
     },
     "execution_count": 4,
     "metadata": {},
     "output_type": "execute_result"
    }
   ],
   "source": [
    "df.describe()"
   ]
  },
  {
   "cell_type": "markdown",
   "id": "ed168cc2",
   "metadata": {
    "id": "ed168cc2"
   },
   "source": [
    "### Задание 1\n",
    "\n",
    "Найдите и удалите все строки в столбце **Возраст**, в которых есть пропуски (null).\n",
    "\n",
    "**Подсказка:** используйте для выполнения задания команду <code>isna()</code>. Пример использования данной команды можно найти в практической части лекции."
   ]
  },
  {
   "cell_type": "code",
   "execution_count": 6,
   "id": "fd34123a",
   "metadata": {
    "id": "fd34123a"
   },
   "outputs": [],
   "source": [
    "df = df.drop(df[df['Возраст'].isna()].index,axis=0) \n",
    "# Вместо троиточия вставьте условие, согласно которому нужно удалить \"неправильные\" данные."
   ]
  },
  {
   "cell_type": "markdown",
   "id": "ed2fbdbd",
   "metadata": {
    "id": "ed2fbdbd"
   },
   "source": [
    "**Проверьте себя!**\n",
    "\n",
    "Убедитесь с помощью команды <code>assert()</code>, что вы нашли и удалили все лишние строки."
   ]
  },
  {
   "cell_type": "code",
   "execution_count": 7,
   "id": "c9bbecb8",
   "metadata": {
    "id": "c9bbecb8"
   },
   "outputs": [],
   "source": [
    "assert len(df) == 983, \"Удалны на все сторчки с null\""
   ]
  },
  {
   "cell_type": "markdown",
   "id": "86888c0e",
   "metadata": {
    "id": "86888c0e"
   },
   "source": [
    "### Задание 2\n",
    "\n",
    "Найдите и удалите все строки, в которых **Возраст_мамы** или **Возраст_папы** равен 0."
   ]
  },
  {
   "cell_type": "code",
   "execution_count": 9,
   "id": "45c80134",
   "metadata": {
    "id": "45c80134"
   },
   "outputs": [],
   "source": [
    "df = df.drop(df[df['Возраст_мамы']==0].index,axis=0)\n",
    "df = df.drop(df[df['Возраст_папы']==0].index,axis=0)\n",
    "\n",
    "# Вместо троиточия вставьте условие, согласно которому нужно удалить \"неправильные\" данные."
   ]
  },
  {
   "cell_type": "markdown",
   "id": "80bf3974",
   "metadata": {
    "id": "80bf3974"
   },
   "source": [
    "**Проверьте себя!**\n",
    "\n",
    "Убедитесь с помощью команды <code>assert()</code>, что вы нашли и удалили все лишние строки."
   ]
  },
  {
   "cell_type": "code",
   "execution_count": 10,
   "id": "db839f1c",
   "metadata": {
    "id": "db839f1c"
   },
   "outputs": [],
   "source": [
    "assert len(df) == 963, \"Удалены на все сторчки, в которых возраст родителей равен 0\""
   ]
  },
  {
   "cell_type": "markdown",
   "id": "f3c24861",
   "metadata": {
    "id": "f3c24861"
   },
   "source": [
    "### Задание 3\n",
    "\n",
    "Найдите и удалите все строки, в которых **Возраст** человека больше или равен **Возраст_папы** или **Возраст_мамы**."
   ]
  },
  {
   "cell_type": "code",
   "execution_count": 11,
   "id": "d4d57811",
   "metadata": {
    "id": "d4d57811"
   },
   "outputs": [],
   "source": [
    "df = df.drop(df[df['Возраст']>=df['Возраст_папы']].index,axis=0)\n",
    "df = df.drop(df[df['Возраст']>=df['Возраст_мамы']].index,axis=0)"
   ]
  },
  {
   "cell_type": "markdown",
   "id": "6ac5c1b3",
   "metadata": {
    "id": "6ac5c1b3"
   },
   "source": [
    "**Проверьте себя!**\n",
    "\n",
    "Убедитесь с помощью команды <code>assert()</code>, что вы нашли и удалили все лишние строки."
   ]
  },
  {
   "cell_type": "code",
   "execution_count": 12,
   "id": "199d22b8",
   "metadata": {
    "id": "199d22b8"
   },
   "outputs": [],
   "source": [
    "assert len(df) == 953, \"Удалены на все сторчки, в которых возраст родителей меньше возраста человека.\""
   ]
  },
  {
   "cell_type": "markdown",
   "id": "2377f111",
   "metadata": {
    "id": "2377f111"
   },
   "source": [
    "### Задание 4\n",
    "\n",
    "Найдите и удалите все строки, в которых **Возраст_мамы** или **Возраст_папы** больше 200 лет."
   ]
  },
  {
   "cell_type": "code",
   "execution_count": 13,
   "id": "3d2e3dac",
   "metadata": {
    "id": "3d2e3dac"
   },
   "outputs": [],
   "source": [
    "df = df.drop(df[df['Возраст_папы']>200].index)"
   ]
  },
  {
   "cell_type": "markdown",
   "id": "a82523e7",
   "metadata": {
    "id": "a82523e7"
   },
   "source": [
    "**Проверьте себя!**\n",
    "\n",
    "Убедитесь с помощью команды <code>assert()</code>, что вы нашли и удалили все лишние строки."
   ]
  },
  {
   "cell_type": "code",
   "execution_count": 14,
   "id": "b4211aae",
   "metadata": {
    "id": "b4211aae"
   },
   "outputs": [],
   "source": [
    "assert len(df) == 940, \"Удалены на все сторчки, в которых возраст родителей больше 200 лет.\""
   ]
  },
  {
   "cell_type": "markdown",
   "id": "f266ba94",
   "metadata": {
    "id": "f266ba94"
   },
   "source": [
    "### Задание 5\n",
    "\n",
    "Произведите замену переменных для столбца **Ходит$_$в$_$детский_сад**. \n",
    "\n",
    "Ответ **да** замените на **1**, а ответ **нет** замените на **0**.\n",
    "\n",
    "**Подсказка:** используйте для выполнения задания команду <code>map()</code>. Пример использования данной команды можно найти в практической части 1-ой лекции."
   ]
  },
  {
   "cell_type": "code",
   "execution_count": 15,
   "id": "d6b91a02",
   "metadata": {
    "id": "d6b91a02"
   },
   "outputs": [],
   "source": [
    "df[\"Ходит_в_детский_сад\"] = df[\"Ходит_в_детский_сад\"].map({'да':1,'нет':0})"
   ]
  },
  {
   "cell_type": "markdown",
   "id": "aaf5ec1b",
   "metadata": {
    "id": "aaf5ec1b"
   },
   "source": [
    "И так, поздравляем, Вы выполнили второе домашнее задание!\n",
    "\n",
    "Теперь осталось чуть-чуть...\n",
    "\n",
    "На платформу Школково Вам нужно будет загрузить файл с итоговым очищенным датасетом для задачи классификации.\n",
    "\n",
    "Чтобы сделать это, выполните ячейку ниже. Тем самым Вы сохраните таблицу в файл <code>kindergarten_dataset_clean.csv</code>. Затем загрузите этот файл на платформу Школково."
   ]
  },
  {
   "cell_type": "code",
   "execution_count": 16,
   "id": "d49c11f9",
   "metadata": {},
   "outputs": [
    {
     "data": {
      "text/html": [
       "<div>\n",
       "<style scoped>\n",
       "    .dataframe tbody tr th:only-of-type {\n",
       "        vertical-align: middle;\n",
       "    }\n",
       "\n",
       "    .dataframe tbody tr th {\n",
       "        vertical-align: top;\n",
       "    }\n",
       "\n",
       "    .dataframe thead th {\n",
       "        text-align: right;\n",
       "    }\n",
       "</style>\n",
       "<table border=\"1\" class=\"dataframe\">\n",
       "  <thead>\n",
       "    <tr style=\"text-align: right;\">\n",
       "      <th></th>\n",
       "      <th>Возраст</th>\n",
       "      <th>Возраст_мамы</th>\n",
       "      <th>Возраст_папы</th>\n",
       "      <th>Ходит_в_детский_сад</th>\n",
       "    </tr>\n",
       "    <tr>\n",
       "      <th>id</th>\n",
       "      <th></th>\n",
       "      <th></th>\n",
       "      <th></th>\n",
       "      <th></th>\n",
       "    </tr>\n",
       "  </thead>\n",
       "  <tbody>\n",
       "    <tr>\n",
       "      <th>0.0</th>\n",
       "      <td>2.0</td>\n",
       "      <td>54</td>\n",
       "      <td>36</td>\n",
       "      <td>1</td>\n",
       "    </tr>\n",
       "    <tr>\n",
       "      <th>1.0</th>\n",
       "      <td>5.0</td>\n",
       "      <td>40</td>\n",
       "      <td>42</td>\n",
       "      <td>1</td>\n",
       "    </tr>\n",
       "    <tr>\n",
       "      <th>2.0</th>\n",
       "      <td>4.0</td>\n",
       "      <td>36</td>\n",
       "      <td>46</td>\n",
       "      <td>1</td>\n",
       "    </tr>\n",
       "    <tr>\n",
       "      <th>3.0</th>\n",
       "      <td>2.0</td>\n",
       "      <td>45</td>\n",
       "      <td>36</td>\n",
       "      <td>1</td>\n",
       "    </tr>\n",
       "    <tr>\n",
       "      <th>4.0</th>\n",
       "      <td>1.0</td>\n",
       "      <td>36</td>\n",
       "      <td>26</td>\n",
       "      <td>0</td>\n",
       "    </tr>\n",
       "    <tr>\n",
       "      <th>...</th>\n",
       "      <td>...</td>\n",
       "      <td>...</td>\n",
       "      <td>...</td>\n",
       "      <td>...</td>\n",
       "    </tr>\n",
       "    <tr>\n",
       "      <th>994.0</th>\n",
       "      <td>1.0</td>\n",
       "      <td>41</td>\n",
       "      <td>37</td>\n",
       "      <td>0</td>\n",
       "    </tr>\n",
       "    <tr>\n",
       "      <th>995.0</th>\n",
       "      <td>2.0</td>\n",
       "      <td>33</td>\n",
       "      <td>46</td>\n",
       "      <td>1</td>\n",
       "    </tr>\n",
       "    <tr>\n",
       "      <th>997.0</th>\n",
       "      <td>4.0</td>\n",
       "      <td>28</td>\n",
       "      <td>39</td>\n",
       "      <td>1</td>\n",
       "    </tr>\n",
       "    <tr>\n",
       "      <th>998.0</th>\n",
       "      <td>6.0</td>\n",
       "      <td>53</td>\n",
       "      <td>47</td>\n",
       "      <td>1</td>\n",
       "    </tr>\n",
       "    <tr>\n",
       "      <th>999.0</th>\n",
       "      <td>22.0</td>\n",
       "      <td>31</td>\n",
       "      <td>34</td>\n",
       "      <td>0</td>\n",
       "    </tr>\n",
       "  </tbody>\n",
       "</table>\n",
       "<p>940 rows × 4 columns</p>\n",
       "</div>"
      ],
      "text/plain": [
       "       Возраст  Возраст_мамы  Возраст_папы  Ходит_в_детский_сад\n",
       "id                                                             \n",
       "0.0        2.0            54            36                    1\n",
       "1.0        5.0            40            42                    1\n",
       "2.0        4.0            36            46                    1\n",
       "3.0        2.0            45            36                    1\n",
       "4.0        1.0            36            26                    0\n",
       "...        ...           ...           ...                  ...\n",
       "994.0      1.0            41            37                    0\n",
       "995.0      2.0            33            46                    1\n",
       "997.0      4.0            28            39                    1\n",
       "998.0      6.0            53            47                    1\n",
       "999.0     22.0            31            34                    0\n",
       "\n",
       "[940 rows x 4 columns]"
      ]
     },
     "execution_count": 16,
     "metadata": {},
     "output_type": "execute_result"
    }
   ],
   "source": [
    "df"
   ]
  },
  {
   "cell_type": "code",
   "execution_count": 17,
   "id": "832f778a",
   "metadata": {
    "id": "832f778a"
   },
   "outputs": [],
   "source": [
    "df.to_csv(\"kindergarten_dataset_clean.csv\")"
   ]
  },
  {
   "cell_type": "code",
   "execution_count": null,
   "id": "9ee7834b",
   "metadata": {},
   "outputs": [],
   "source": []
  }
 ],
 "metadata": {
  "colab": {
   "provenance": []
  },
  "kernelspec": {
   "display_name": "Python 3 (ipykernel)",
   "language": "python",
   "name": "python3"
  },
  "language_info": {
   "codemirror_mode": {
    "name": "ipython",
    "version": 3
   },
   "file_extension": ".py",
   "mimetype": "text/x-python",
   "name": "python",
   "nbconvert_exporter": "python",
   "pygments_lexer": "ipython3",
   "version": "3.10.9"
  }
 },
 "nbformat": 4,
 "nbformat_minor": 5
}
